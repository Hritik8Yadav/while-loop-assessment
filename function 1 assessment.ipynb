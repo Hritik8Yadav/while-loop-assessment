{
 "cells": [
  {
   "cell_type": "code",
   "execution_count": 1,
   "id": "0177cbdd-8be1-4b4f-9b55-7641c1229d19",
   "metadata": {},
   "outputs": [],
   "source": [
    "#Ans 1: \"def\" keyword is used to create a function\n",
    "#function to retrun a list of odd numbers in the range of 1 to 25\n",
    "def numbers():\n",
    "    l=[]\n",
    "    for i in range(1,26):\n",
    "        if(i%2!=0):\n",
    "            l.append(i)\n",
    "    return l"
   ]
  },
  {
   "cell_type": "code",
   "execution_count": 2,
   "id": "813f03f9-c0aa-48bc-a78a-9fe63e95e4d7",
   "metadata": {},
   "outputs": [
    {
     "data": {
      "text/plain": [
       "[1, 3, 5, 7, 9, 11, 13, 15, 17, 19, 21, 23, 25]"
      ]
     },
     "execution_count": 2,
     "metadata": {},
     "output_type": "execute_result"
    }
   ],
   "source": [
    "numbers()"
   ]
  },
  {
   "cell_type": "code",
   "execution_count": 5,
   "id": "fddf6627-23d5-4bd6-9e55-4a569dffdd7d",
   "metadata": {},
   "outputs": [],
   "source": [
    "#Ans 2: *args and **kwargs are used where the number of arguements given to a perticular function is unkwnown and we want to give number of arguements dynamically.\n",
    "#function for args calculating multiplication:\n",
    "def multiply(*args):\n",
    "    result=1\n",
    "    for i in args:\n",
    "        result*=i\n",
    "    return result"
   ]
  },
  {
   "cell_type": "code",
   "execution_count": 6,
   "id": "dad2c4d7-2adc-4736-be4d-1445dca13570",
   "metadata": {},
   "outputs": [
    {
     "data": {
      "text/plain": [
       "120"
      ]
     },
     "execution_count": 6,
     "metadata": {},
     "output_type": "execute_result"
    }
   ],
   "source": [
    "multiply(1,2,3,4,5)"
   ]
  },
  {
   "cell_type": "code",
   "execution_count": 17,
   "id": "3ab14ad7-cdda-4260-963f-80f1352786ea",
   "metadata": {},
   "outputs": [],
   "source": [
    "#for kwargs\n",
    "def prof(**kwargs):\n",
    "    for i,j in kwargs.items():\n",
    "        print (i,\":\",j)"
   ]
  },
  {
   "cell_type": "code",
   "execution_count": 19,
   "id": "3de4bf09-0f3e-4306-aa42-31ffe8e58c99",
   "metadata": {},
   "outputs": [
    {
     "name": "stdout",
     "output_type": "stream",
     "text": [
      "name : hritik\n",
      "age : 21\n",
      "gender : male\n",
      "course : data science masters\n"
     ]
    }
   ],
   "source": [
    "prof(name=\"hritik\",age=\"21\",gender=\"male\",course=\"data science masters\")"
   ]
  },
  {
   "cell_type": "code",
   "execution_count": 11,
   "id": "52e0c648-c880-4ca2-b6dc-f714fe42654f",
   "metadata": {},
   "outputs": [
    {
     "name": "stdout",
     "output_type": "stream",
     "text": [
      "2\n",
      "4\n",
      "6\n",
      "8\n",
      "10\n"
     ]
    }
   ],
   "source": [
    "#Ans 3: Iterator are the objects which we can iterate another object.\n",
    "# iter() method is used to initialise the iterator object.\n",
    "# next() method is used for iteration\n",
    "l1=[2,4,6,8,10,12,14,16,18,20]\n",
    "l1=iter(l1)\n",
    "print(next(l1))\n",
    "print(next(l1))\n",
    "print(next(l1))\n",
    "print(next(l1))\n",
    "print(next(l1))"
   ]
  },
  {
   "cell_type": "code",
   "execution_count": 30,
   "id": "e6d6dc1f-ff62-4357-b2b8-e7b97fb3ccab",
   "metadata": {},
   "outputs": [],
   "source": [
    "#Ans 4: Generator function is a function used to optimise the space and create an iterator that produce \n",
    "# sequence of values when iterate over.\n",
    "# yield keyword return the value at each iteration.\n",
    "# example: \n",
    "def func1():\n",
    "    add=0\n",
    "    count=1\n",
    "    while True:\n",
    "        add+=count\n",
    "        yield add\n",
    "        count+=1"
   ]
  },
  {
   "cell_type": "code",
   "execution_count": 32,
   "id": "a67b52ba-7784-4a9a-a81a-68fdc16e541e",
   "metadata": {},
   "outputs": [
    {
     "name": "stdout",
     "output_type": "stream",
     "text": [
      "1\n",
      "3\n",
      "6\n",
      "10\n",
      "15\n",
      "21\n",
      "28\n",
      "36\n",
      "45\n",
      "55\n"
     ]
    }
   ],
   "source": [
    "fun=func1()\n",
    "for i in range(10):\n",
    "    print(next(fun))"
   ]
  },
  {
   "cell_type": "code",
   "execution_count": 33,
   "id": "5c861cf9-79b1-4d7e-895c-d350045d002d",
   "metadata": {},
   "outputs": [],
   "source": [
    "# Ans 5:\n",
    "#function for prime numbers\n",
    "def prime():\n",
    "    for i in range(2,1000):\n",
    "        for j in range(2,i):\n",
    "            if(i%j==0):\n",
    "                break\n",
    "                i+=1\n",
    "        else:\n",
    "            yield i\n",
    "            i+=1\n",
    "    \n",
    "        "
   ]
  },
  {
   "cell_type": "code",
   "execution_count": 34,
   "id": "2dace153-8f22-4878-898b-1914db751a1b",
   "metadata": {},
   "outputs": [
    {
     "name": "stdout",
     "output_type": "stream",
     "text": [
      "2\n",
      "3\n",
      "5\n",
      "7\n",
      "11\n",
      "13\n",
      "17\n",
      "19\n",
      "23\n",
      "29\n",
      "31\n",
      "37\n",
      "41\n",
      "43\n",
      "47\n",
      "53\n",
      "59\n",
      "61\n",
      "67\n",
      "71\n"
     ]
    }
   ],
   "source": [
    "prm=prime()\n",
    "for i in range(20):\n",
    "    print(next(prm))"
   ]
  },
  {
   "cell_type": "code",
   "execution_count": 36,
   "id": "50933c15-e351-4606-8a3a-6cfb4e190406",
   "metadata": {},
   "outputs": [
    {
     "name": "stdout",
     "output_type": "stream",
     "text": [
      "0\n",
      "1\n",
      "1\n",
      "2\n",
      "3\n",
      "5\n",
      "8\n",
      "13\n",
      "21\n",
      "34\n"
     ]
    }
   ],
   "source": [
    "#Ans 6: python program for fibonacci series\n",
    "count=0\n",
    "a,b=0,1\n",
    "while(count<10):\n",
    "    print(a)\n",
    "    a,b=b,a+b\n",
    "    count+=1"
   ]
  },
  {
   "cell_type": "code",
   "execution_count": 37,
   "id": "3a504fc7-c00a-41b9-adb8-0afb660b8c04",
   "metadata": {},
   "outputs": [
    {
     "name": "stdout",
     "output_type": "stream",
     "text": [
      "['p', 'w', 's', 'k', 'i', 'l', 'l', 's']\n"
     ]
    }
   ],
   "source": [
    "s1=\"pwskills\"\n",
    "l1=[i for i in s1]\n",
    "print(l1)"
   ]
  },
  {
   "cell_type": "code",
   "execution_count": 39,
   "id": "2fe50cad-cd7a-44c3-ac38-354b7457c0c7",
   "metadata": {},
   "outputs": [
    {
     "name": "stdin",
     "output_type": "stream",
     "text": [
      "Enter the number:  123\n"
     ]
    },
    {
     "name": "stdout",
     "output_type": "stream",
     "text": [
      "Number is not palindrmoe!\n"
     ]
    }
   ],
   "source": [
    "#Ans 8: python program for checking palindrome>\n",
    "number=int(input(\"Enter the number: \"))\n",
    "check=number\n",
    "rev=0\n",
    "while(number!=0):\n",
    "    rem=number%10\n",
    "    number=number//10\n",
    "    rev=(rev*10)+rem\n",
    "if (rev==check):\n",
    "    print(\"Number is palindrome!\")\n",
    "else:\n",
    "    print(\"Number is not palindrmoe!\")"
   ]
  },
  {
   "cell_type": "code",
   "execution_count": 43,
   "id": "1474fff7-4568-4c62-93f3-7f47772c3e87",
   "metadata": {},
   "outputs": [
    {
     "data": {
      "text/plain": [
       "[1,\n",
       " 3,\n",
       " 5,\n",
       " 7,\n",
       " 9,\n",
       " 11,\n",
       " 13,\n",
       " 15,\n",
       " 17,\n",
       " 19,\n",
       " 21,\n",
       " 23,\n",
       " 25,\n",
       " 27,\n",
       " 29,\n",
       " 31,\n",
       " 33,\n",
       " 35,\n",
       " 37,\n",
       " 39,\n",
       " 41,\n",
       " 43,\n",
       " 45,\n",
       " 47,\n",
       " 49,\n",
       " 51,\n",
       " 53,\n",
       " 55,\n",
       " 57,\n",
       " 59,\n",
       " 61,\n",
       " 63,\n",
       " 65,\n",
       " 67,\n",
       " 69,\n",
       " 71,\n",
       " 73,\n",
       " 75,\n",
       " 77,\n",
       " 79,\n",
       " 81,\n",
       " 83,\n",
       " 85,\n",
       " 87,\n",
       " 89,\n",
       " 91,\n",
       " 93,\n",
       " 95,\n",
       " 97,\n",
       " 99]"
      ]
     },
     "execution_count": 43,
     "metadata": {},
     "output_type": "execute_result"
    }
   ],
   "source": [
    "#Ans 9: odd numbers using lis comprehension.\n",
    "\"\"\"list of numbers from 1 to 100\"\"\"\n",
    "l1=[i for i in range(1,101)]\n",
    "\"\"\"list of odd numbers from 1 to 100\"\"\"\n",
    "l2=[j for j in l1 if j%2!=0]\n",
    "l2"
   ]
  }
 ],
 "metadata": {
  "kernelspec": {
   "display_name": "Python 3 (ipykernel)",
   "language": "python",
   "name": "python3"
  },
  "language_info": {
   "codemirror_mode": {
    "name": "ipython",
    "version": 3
   },
   "file_extension": ".py",
   "mimetype": "text/x-python",
   "name": "python",
   "nbconvert_exporter": "python",
   "pygments_lexer": "ipython3",
   "version": "3.10.8"
  }
 },
 "nbformat": 4,
 "nbformat_minor": 5
}
